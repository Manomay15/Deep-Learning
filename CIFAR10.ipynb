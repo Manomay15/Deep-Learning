{
  "nbformat": 4,
  "nbformat_minor": 0,
  "metadata": {
    "colab": {
      "name": "CIFAR10.ipynb",
      "provenance": [],
      "authorship_tag": "ABX9TyOI7rsji4qEs6YVWcuEYypP",
      "include_colab_link": true
    },
    "kernelspec": {
      "name": "python3",
      "display_name": "Python 3"
    },
    "language_info": {
      "name": "python"
    }
  },
  "cells": [
    {
      "cell_type": "markdown",
      "metadata": {
        "id": "view-in-github",
        "colab_type": "text"
      },
      "source": [
        "<a href=\"https://colab.research.google.com/github/Manomay15/Deep-Learning/blob/main/CIFAR10.ipynb\" target=\"_parent\"><img src=\"https://colab.research.google.com/assets/colab-badge.svg\" alt=\"Open In Colab\"/></a>"
      ]
    },
    {
      "cell_type": "code",
      "execution_count": 1,
      "metadata": {
        "id": "-dMwDAITWMZL"
      },
      "outputs": [],
      "source": [
        "import tensorflow as tf"
      ]
    },
    {
      "cell_type": "code",
      "source": [
        "data = tf.keras.datasets.cifar10"
      ],
      "metadata": {
        "id": "PVk6e0aSWSJq"
      },
      "execution_count": 2,
      "outputs": []
    },
    {
      "cell_type": "code",
      "source": [
        "(x_train_full, y_train_full), (x_test, y_test) = data.load_data()"
      ],
      "metadata": {
        "colab": {
          "base_uri": "https://localhost:8080/"
        },
        "id": "szoz04XAWXmt",
        "outputId": "d1be4543-5f29-4804-8f37-a8f071e5fa23"
      },
      "execution_count": 4,
      "outputs": [
        {
          "output_type": "stream",
          "name": "stdout",
          "text": [
            "Downloading data from https://www.cs.toronto.edu/~kriz/cifar-10-python.tar.gz\n",
            "170500096/170498071 [==============================] - 4s 0us/step\n",
            "170508288/170498071 [==============================] - 4s 0us/step\n"
          ]
        }
      ]
    },
    {
      "cell_type": "code",
      "source": [
        "x_train = x_train_full[10000:]\n",
        "y_train = y_train_full[10000:]\n",
        "x_valid = x_train_full[:10000]\n",
        "y_valid = y_train_full[:10000]"
      ],
      "metadata": {
        "id": "7x5sCkWvWYiQ"
      },
      "execution_count": 9,
      "outputs": []
    },
    {
      "cell_type": "code",
      "source": [
        "model = tf.keras.models.Sequential()"
      ],
      "metadata": {
        "id": "K1DUCRxcWuar"
      },
      "execution_count": 12,
      "outputs": []
    },
    {
      "cell_type": "code",
      "source": [
        "model.add(tf.keras.layers.Flatten(input_shape=[32,32,3]))"
      ],
      "metadata": {
        "id": "kV-4E0iFXcCv"
      },
      "execution_count": 13,
      "outputs": []
    },
    {
      "cell_type": "code",
      "source": [
        "model.summary()"
      ],
      "metadata": {
        "colab": {
          "base_uri": "https://localhost:8080/"
        },
        "id": "XoAyK550XzH_",
        "outputId": "9cfb7d73-22d8-4ece-d4d7-4d7d93010fbd"
      },
      "execution_count": 14,
      "outputs": [
        {
          "output_type": "stream",
          "name": "stdout",
          "text": [
            "Model: \"sequential\"\n",
            "_________________________________________________________________\n",
            " Layer (type)                Output Shape              Param #   \n",
            "=================================================================\n",
            " flatten (Flatten)           (None, 3072)              0         \n",
            "                                                                 \n",
            "=================================================================\n",
            "Total params: 0\n",
            "Trainable params: 0\n",
            "Non-trainable params: 0\n",
            "_________________________________________________________________\n"
          ]
        }
      ]
    },
    {
      "cell_type": "code",
      "source": [
        "for _ in range(20):\n",
        "  model.add(tf.keras.layers.Dense(100,\n",
        "                                  activation='elu',\n",
        "                                  kernel_initializer=\"he_normal\"))"
      ],
      "metadata": {
        "id": "KBSFvAQiX0z5"
      },
      "execution_count": 15,
      "outputs": []
    },
    {
      "cell_type": "code",
      "source": [
        "model.add(tf.keras.layers.Dense(10,\n",
        "                                activation='softmax'))"
      ],
      "metadata": {
        "id": "cCyw3NO1YMs1"
      },
      "execution_count": 17,
      "outputs": []
    },
    {
      "cell_type": "code",
      "source": [
        "model.summary()"
      ],
      "metadata": {
        "colab": {
          "base_uri": "https://localhost:8080/"
        },
        "id": "5a1zByD4YGOp",
        "outputId": "f72f8f80-4536-4598-e762-72d6964df90b"
      },
      "execution_count": 18,
      "outputs": [
        {
          "output_type": "stream",
          "name": "stdout",
          "text": [
            "Model: \"sequential\"\n",
            "_________________________________________________________________\n",
            " Layer (type)                Output Shape              Param #   \n",
            "=================================================================\n",
            " flatten (Flatten)           (None, 3072)              0         \n",
            "                                                                 \n",
            " dense (Dense)               (None, 100)               307300    \n",
            "                                                                 \n",
            " dense_1 (Dense)             (None, 100)               10100     \n",
            "                                                                 \n",
            " dense_2 (Dense)             (None, 100)               10100     \n",
            "                                                                 \n",
            " dense_3 (Dense)             (None, 100)               10100     \n",
            "                                                                 \n",
            " dense_4 (Dense)             (None, 100)               10100     \n",
            "                                                                 \n",
            " dense_5 (Dense)             (None, 100)               10100     \n",
            "                                                                 \n",
            " dense_6 (Dense)             (None, 100)               10100     \n",
            "                                                                 \n",
            " dense_7 (Dense)             (None, 100)               10100     \n",
            "                                                                 \n",
            " dense_8 (Dense)             (None, 100)               10100     \n",
            "                                                                 \n",
            " dense_9 (Dense)             (None, 100)               10100     \n",
            "                                                                 \n",
            " dense_10 (Dense)            (None, 100)               10100     \n",
            "                                                                 \n",
            " dense_11 (Dense)            (None, 100)               10100     \n",
            "                                                                 \n",
            " dense_12 (Dense)            (None, 100)               10100     \n",
            "                                                                 \n",
            " dense_13 (Dense)            (None, 100)               10100     \n",
            "                                                                 \n",
            " dense_14 (Dense)            (None, 100)               10100     \n",
            "                                                                 \n",
            " dense_15 (Dense)            (None, 100)               10100     \n",
            "                                                                 \n",
            " dense_16 (Dense)            (None, 100)               10100     \n",
            "                                                                 \n",
            " dense_17 (Dense)            (None, 100)               10100     \n",
            "                                                                 \n",
            " dense_18 (Dense)            (None, 100)               10100     \n",
            "                                                                 \n",
            " dense_19 (Dense)            (None, 100)               10100     \n",
            "                                                                 \n",
            " dense_20 (Dense)            (None, 10)                1010      \n",
            "                                                                 \n",
            "=================================================================\n",
            "Total params: 500,210\n",
            "Trainable params: 500,210\n",
            "Non-trainable params: 0\n",
            "_________________________________________________________________\n"
          ]
        }
      ]
    },
    {
      "cell_type": "code",
      "source": [
        "optimizer = tf.keras.optimizers.Nadam()\n",
        "model.compile(optimizer=optimizer, loss='sparse_categorical_crossentropy', metrics=['accuracy'])"
      ],
      "metadata": {
        "id": "CBGdd4nVYjLh"
      },
      "execution_count": 19,
      "outputs": []
    },
    {
      "cell_type": "code",
      "source": [
        "model.fit(x_train, y_train, epochs=30, validation_data=(x_valid, y_valid))"
      ],
      "metadata": {
        "colab": {
          "base_uri": "https://localhost:8080/"
        },
        "id": "7_SH-DacaDct",
        "outputId": "f3f34830-73cb-4cdb-ed7b-e6897aff1d2c"
      },
      "execution_count": 21,
      "outputs": [
        {
          "output_type": "stream",
          "name": "stdout",
          "text": [
            "Epoch 1/30\n",
            "1250/1250 [==============================] - 14s 11ms/step - loss: 1.8112 - accuracy: 0.3388 - val_loss: 1.8191 - val_accuracy: 0.3435\n",
            "Epoch 2/30\n",
            "1250/1250 [==============================] - 14s 12ms/step - loss: 1.7934 - accuracy: 0.3481 - val_loss: 1.7587 - val_accuracy: 0.3643\n",
            "Epoch 3/30\n",
            "1250/1250 [==============================] - 14s 11ms/step - loss: 1.7742 - accuracy: 0.3585 - val_loss: 1.8080 - val_accuracy: 0.3426\n",
            "Epoch 4/30\n",
            "1250/1250 [==============================] - 14s 11ms/step - loss: 1.7683 - accuracy: 0.3614 - val_loss: 1.7769 - val_accuracy: 0.3627\n",
            "Epoch 5/30\n",
            "1250/1250 [==============================] - 15s 12ms/step - loss: 1.7581 - accuracy: 0.3642 - val_loss: 1.7935 - val_accuracy: 0.3426\n",
            "Epoch 6/30\n",
            "1250/1250 [==============================] - 14s 11ms/step - loss: 1.8526 - accuracy: 0.3306 - val_loss: 1.9489 - val_accuracy: 0.2808\n",
            "Epoch 7/30\n",
            "1250/1250 [==============================] - 14s 11ms/step - loss: 1.9079 - accuracy: 0.2929 - val_loss: 1.8599 - val_accuracy: 0.3118\n",
            "Epoch 8/30\n",
            "1250/1250 [==============================] - 14s 11ms/step - loss: 1.8722 - accuracy: 0.3064 - val_loss: 1.9094 - val_accuracy: 0.2964\n",
            "Epoch 9/30\n",
            "1250/1250 [==============================] - 14s 11ms/step - loss: 1.8495 - accuracy: 0.3189 - val_loss: 1.8748 - val_accuracy: 0.3061\n",
            "Epoch 10/30\n",
            "1250/1250 [==============================] - 14s 11ms/step - loss: 1.9877 - accuracy: 0.2729 - val_loss: 2.0970 - val_accuracy: 0.1887\n",
            "Epoch 11/30\n",
            "1250/1250 [==============================] - 14s 11ms/step - loss: 1.9833 - accuracy: 0.2594 - val_loss: 1.9193 - val_accuracy: 0.2744\n",
            "Epoch 12/30\n",
            "1250/1250 [==============================] - 14s 11ms/step - loss: 1.9764 - accuracy: 0.2507 - val_loss: 1.9458 - val_accuracy: 0.2536\n",
            "Epoch 13/30\n",
            "1250/1250 [==============================] - 14s 12ms/step - loss: 1.9150 - accuracy: 0.2720 - val_loss: 1.8992 - val_accuracy: 0.2799\n",
            "Epoch 14/30\n",
            "1250/1250 [==============================] - 15s 12ms/step - loss: 1.8938 - accuracy: 0.2807 - val_loss: 1.8721 - val_accuracy: 0.2869\n",
            "Epoch 15/30\n",
            "1250/1250 [==============================] - 14s 12ms/step - loss: 1.8826 - accuracy: 0.2887 - val_loss: 1.8592 - val_accuracy: 0.2985\n",
            "Epoch 16/30\n",
            "1250/1250 [==============================] - 14s 11ms/step - loss: 1.8738 - accuracy: 0.2976 - val_loss: 1.8675 - val_accuracy: 0.3018\n",
            "Epoch 17/30\n",
            "1250/1250 [==============================] - 15s 12ms/step - loss: 1.8628 - accuracy: 0.3018 - val_loss: 1.8403 - val_accuracy: 0.3140\n",
            "Epoch 18/30\n",
            "1250/1250 [==============================] - 14s 11ms/step - loss: 1.8489 - accuracy: 0.3081 - val_loss: 1.8362 - val_accuracy: 0.3137\n",
            "Epoch 19/30\n",
            "1250/1250 [==============================] - 14s 11ms/step - loss: 1.8496 - accuracy: 0.3108 - val_loss: 2.0769 - val_accuracy: 0.2093\n",
            "Epoch 20/30\n",
            "1250/1250 [==============================] - 14s 11ms/step - loss: 1.8847 - accuracy: 0.2898 - val_loss: 1.8607 - val_accuracy: 0.2987\n",
            "Epoch 21/30\n",
            "1250/1250 [==============================] - 14s 11ms/step - loss: 1.8516 - accuracy: 0.3076 - val_loss: 1.8197 - val_accuracy: 0.3218\n",
            "Epoch 22/30\n",
            "1250/1250 [==============================] - 14s 11ms/step - loss: 1.9007 - accuracy: 0.2805 - val_loss: 1.8843 - val_accuracy: 0.2668\n",
            "Epoch 23/30\n",
            "1250/1250 [==============================] - 15s 12ms/step - loss: 1.8533 - accuracy: 0.2853 - val_loss: 1.9053 - val_accuracy: 0.2679\n",
            "Epoch 24/30\n",
            "1250/1250 [==============================] - 15s 12ms/step - loss: 1.8396 - accuracy: 0.2955 - val_loss: 1.8417 - val_accuracy: 0.2961\n",
            "Epoch 25/30\n",
            "1250/1250 [==============================] - 14s 11ms/step - loss: 1.8367 - accuracy: 0.2986 - val_loss: 1.8307 - val_accuracy: 0.3101\n",
            "Epoch 26/30\n",
            "1250/1250 [==============================] - 15s 12ms/step - loss: 1.8295 - accuracy: 0.3140 - val_loss: 1.8162 - val_accuracy: 0.3208\n",
            "Epoch 27/30\n",
            "1250/1250 [==============================] - 14s 11ms/step - loss: 1.8874 - accuracy: 0.2901 - val_loss: 1.8512 - val_accuracy: 0.3049\n",
            "Epoch 28/30\n",
            "1250/1250 [==============================] - 14s 11ms/step - loss: 1.8410 - accuracy: 0.3093 - val_loss: 1.8389 - val_accuracy: 0.3063\n",
            "Epoch 29/30\n",
            "1250/1250 [==============================] - 14s 11ms/step - loss: 1.8262 - accuracy: 0.3114 - val_loss: 1.8237 - val_accuracy: 0.3135\n",
            "Epoch 30/30\n",
            "1250/1250 [==============================] - 14s 11ms/step - loss: 1.8464 - accuracy: 0.3011 - val_loss: 1.8676 - val_accuracy: 0.2946\n"
          ]
        },
        {
          "output_type": "execute_result",
          "data": {
            "text/plain": [
              "<keras.callbacks.History at 0x7fbde22d39d0>"
            ]
          },
          "metadata": {},
          "execution_count": 21
        }
      ]
    },
    {
      "cell_type": "code",
      "source": [
        ""
      ],
      "metadata": {
        "id": "jPXRUh98adPb"
      },
      "execution_count": null,
      "outputs": []
    }
  ]
}