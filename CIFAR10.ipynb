{
  "nbformat": 4,
  "nbformat_minor": 0,
  "metadata": {
    "colab": {
      "name": "CIFAR10.ipynb",
      "provenance": [],
      "authorship_tag": "ABX9TyPh641qNLVoBt/9OvmttMZz",
      "include_colab_link": true
    },
    "kernelspec": {
      "name": "python3",
      "display_name": "Python 3"
    },
    "language_info": {
      "name": "python"
    }
  },
  "cells": [
    {
      "cell_type": "markdown",
      "metadata": {
        "id": "view-in-github",
        "colab_type": "text"
      },
      "source": [
        "<a href=\"https://colab.research.google.com/github/Manomay15/Deep-Learning/blob/main/CIFAR10.ipynb\" target=\"_parent\"><img src=\"https://colab.research.google.com/assets/colab-badge.svg\" alt=\"Open In Colab\"/></a>"
      ]
    },
    {
      "cell_type": "code",
      "execution_count": 1,
      "metadata": {
        "id": "-dMwDAITWMZL"
      },
      "outputs": [],
      "source": [
        "import tensorflow as tf"
      ]
    },
    {
      "cell_type": "code",
      "source": [
        "data = tf.keras.datasets.cifar10"
      ],
      "metadata": {
        "id": "PVk6e0aSWSJq"
      },
      "execution_count": 2,
      "outputs": []
    },
    {
      "cell_type": "code",
      "source": [
        "(x_train_full, y_train_full), (x_test, y_test) = data.load_data()"
      ],
      "metadata": {
        "colab": {
          "base_uri": "https://localhost:8080/"
        },
        "id": "szoz04XAWXmt",
        "outputId": "d1be4543-5f29-4804-8f37-a8f071e5fa23"
      },
      "execution_count": 4,
      "outputs": [
        {
          "output_type": "stream",
          "name": "stdout",
          "text": [
            "Downloading data from https://www.cs.toronto.edu/~kriz/cifar-10-python.tar.gz\n",
            "170500096/170498071 [==============================] - 4s 0us/step\n",
            "170508288/170498071 [==============================] - 4s 0us/step\n"
          ]
        }
      ]
    },
    {
      "cell_type": "code",
      "source": [
        "x_train = x_train_full[10000:]\n",
        "y_train = y_train_full[10000:]\n",
        "x_valid = x_train_full[:10000]\n",
        "y_valid = y_train_full[:10000]"
      ],
      "metadata": {
        "id": "7x5sCkWvWYiQ"
      },
      "execution_count": 9,
      "outputs": []
    },
    {
      "cell_type": "code",
      "source": [
        "model = tf.keras.models.Sequential()"
      ],
      "metadata": {
        "id": "K1DUCRxcWuar"
      },
      "execution_count": 12,
      "outputs": []
    },
    {
      "cell_type": "code",
      "source": [
        "model.add(tf.keras.layers.Flatten(input_shape=[32,32,3]))"
      ],
      "metadata": {
        "id": "kV-4E0iFXcCv"
      },
      "execution_count": 13,
      "outputs": []
    },
    {
      "cell_type": "code",
      "source": [
        "model.summary()"
      ],
      "metadata": {
        "colab": {
          "base_uri": "https://localhost:8080/"
        },
        "id": "XoAyK550XzH_",
        "outputId": "9cfb7d73-22d8-4ece-d4d7-4d7d93010fbd"
      },
      "execution_count": 14,
      "outputs": [
        {
          "output_type": "stream",
          "name": "stdout",
          "text": [
            "Model: \"sequential\"\n",
            "_________________________________________________________________\n",
            " Layer (type)                Output Shape              Param #   \n",
            "=================================================================\n",
            " flatten (Flatten)           (None, 3072)              0         \n",
            "                                                                 \n",
            "=================================================================\n",
            "Total params: 0\n",
            "Trainable params: 0\n",
            "Non-trainable params: 0\n",
            "_________________________________________________________________\n"
          ]
        }
      ]
    },
    {
      "cell_type": "code",
      "source": [
        "for _ in range(20):\n",
        "  model.add(tf.keras.layers.Dense(100,\n",
        "                                  activation='elu',\n",
        "                                  kernel_initializer=\"he_normal\"))"
      ],
      "metadata": {
        "id": "KBSFvAQiX0z5"
      },
      "execution_count": 15,
      "outputs": []
    },
    {
      "cell_type": "code",
      "source": [
        "model.add(tf.keras.layers.Dense(10,\n",
        "                                activation='softmax'))"
      ],
      "metadata": {
        "id": "cCyw3NO1YMs1"
      },
      "execution_count": 17,
      "outputs": []
    },
    {
      "cell_type": "code",
      "source": [
        "model.summary()"
      ],
      "metadata": {
        "colab": {
          "base_uri": "https://localhost:8080/"
        },
        "id": "5a1zByD4YGOp",
        "outputId": "f72f8f80-4536-4598-e762-72d6964df90b"
      },
      "execution_count": 18,
      "outputs": [
        {
          "output_type": "stream",
          "name": "stdout",
          "text": [
            "Model: \"sequential\"\n",
            "_________________________________________________________________\n",
            " Layer (type)                Output Shape              Param #   \n",
            "=================================================================\n",
            " flatten (Flatten)           (None, 3072)              0         \n",
            "                                                                 \n",
            " dense (Dense)               (None, 100)               307300    \n",
            "                                                                 \n",
            " dense_1 (Dense)             (None, 100)               10100     \n",
            "                                                                 \n",
            " dense_2 (Dense)             (None, 100)               10100     \n",
            "                                                                 \n",
            " dense_3 (Dense)             (None, 100)               10100     \n",
            "                                                                 \n",
            " dense_4 (Dense)             (None, 100)               10100     \n",
            "                                                                 \n",
            " dense_5 (Dense)             (None, 100)               10100     \n",
            "                                                                 \n",
            " dense_6 (Dense)             (None, 100)               10100     \n",
            "                                                                 \n",
            " dense_7 (Dense)             (None, 100)               10100     \n",
            "                                                                 \n",
            " dense_8 (Dense)             (None, 100)               10100     \n",
            "                                                                 \n",
            " dense_9 (Dense)             (None, 100)               10100     \n",
            "                                                                 \n",
            " dense_10 (Dense)            (None, 100)               10100     \n",
            "                                                                 \n",
            " dense_11 (Dense)            (None, 100)               10100     \n",
            "                                                                 \n",
            " dense_12 (Dense)            (None, 100)               10100     \n",
            "                                                                 \n",
            " dense_13 (Dense)            (None, 100)               10100     \n",
            "                                                                 \n",
            " dense_14 (Dense)            (None, 100)               10100     \n",
            "                                                                 \n",
            " dense_15 (Dense)            (None, 100)               10100     \n",
            "                                                                 \n",
            " dense_16 (Dense)            (None, 100)               10100     \n",
            "                                                                 \n",
            " dense_17 (Dense)            (None, 100)               10100     \n",
            "                                                                 \n",
            " dense_18 (Dense)            (None, 100)               10100     \n",
            "                                                                 \n",
            " dense_19 (Dense)            (None, 100)               10100     \n",
            "                                                                 \n",
            " dense_20 (Dense)            (None, 10)                1010      \n",
            "                                                                 \n",
            "=================================================================\n",
            "Total params: 500,210\n",
            "Trainable params: 500,210\n",
            "Non-trainable params: 0\n",
            "_________________________________________________________________\n"
          ]
        }
      ]
    },
    {
      "cell_type": "code",
      "source": [
        "optimizer = tf.keras.optimizers.Nadam(learning_rate=5e-5)\n",
        "model.compile(optimizer=optimizer, loss='sparse_categorical_crossentropy', metrics=['accuracy'])"
      ],
      "metadata": {
        "id": "CBGdd4nVYjLh"
      },
      "execution_count": 22,
      "outputs": []
    },
    {
      "cell_type": "code",
      "source": [
        "model.fit(x_train, y_train, epochs=30, validation_data=(x_valid, y_valid))"
      ],
      "metadata": {
        "colab": {
          "base_uri": "https://localhost:8080/"
        },
        "id": "7_SH-DacaDct",
        "outputId": "50b3673c-9c30-410f-f8dd-1d67d98a1366"
      },
      "execution_count": 23,
      "outputs": [
        {
          "output_type": "stream",
          "name": "stdout",
          "text": [
            "Epoch 1/30\n",
            "1250/1250 [==============================] - 17s 11ms/step - loss: 1.8001 - accuracy: 0.3223 - val_loss: 1.8050 - val_accuracy: 0.3232\n",
            "Epoch 2/30\n",
            "1250/1250 [==============================] - 14s 11ms/step - loss: 1.7815 - accuracy: 0.3302 - val_loss: 1.7965 - val_accuracy: 0.3206\n",
            "Epoch 3/30\n",
            "1250/1250 [==============================] - 14s 11ms/step - loss: 1.7765 - accuracy: 0.3320 - val_loss: 1.7944 - val_accuracy: 0.3279\n",
            "Epoch 4/30\n",
            "1250/1250 [==============================] - 15s 12ms/step - loss: 1.7736 - accuracy: 0.3354 - val_loss: 1.7891 - val_accuracy: 0.3279\n",
            "Epoch 5/30\n",
            "1250/1250 [==============================] - 14s 11ms/step - loss: 1.7696 - accuracy: 0.3352 - val_loss: 1.7883 - val_accuracy: 0.3307\n",
            "Epoch 6/30\n",
            "1250/1250 [==============================] - 14s 11ms/step - loss: 1.7684 - accuracy: 0.3361 - val_loss: 1.7857 - val_accuracy: 0.3320\n",
            "Epoch 7/30\n",
            "1250/1250 [==============================] - 14s 11ms/step - loss: 1.7678 - accuracy: 0.3352 - val_loss: 1.7883 - val_accuracy: 0.3314\n",
            "Epoch 8/30\n",
            "1250/1250 [==============================] - 14s 11ms/step - loss: 1.7646 - accuracy: 0.3354 - val_loss: 1.7865 - val_accuracy: 0.3287\n",
            "Epoch 9/30\n",
            "1250/1250 [==============================] - 14s 12ms/step - loss: 1.7618 - accuracy: 0.3356 - val_loss: 1.7840 - val_accuracy: 0.3316\n",
            "Epoch 10/30\n",
            "1250/1250 [==============================] - 15s 12ms/step - loss: 1.7638 - accuracy: 0.3340 - val_loss: 1.7828 - val_accuracy: 0.3312\n",
            "Epoch 11/30\n",
            "1250/1250 [==============================] - 14s 11ms/step - loss: 1.7606 - accuracy: 0.3362 - val_loss: 1.7875 - val_accuracy: 0.3309\n",
            "Epoch 12/30\n",
            "1250/1250 [==============================] - 14s 11ms/step - loss: 1.7594 - accuracy: 0.3358 - val_loss: 1.7810 - val_accuracy: 0.3310\n",
            "Epoch 13/30\n",
            "1250/1250 [==============================] - 15s 12ms/step - loss: 1.7589 - accuracy: 0.3355 - val_loss: 1.7784 - val_accuracy: 0.3352\n",
            "Epoch 14/30\n",
            "1250/1250 [==============================] - 14s 11ms/step - loss: 1.7596 - accuracy: 0.3368 - val_loss: 1.7785 - val_accuracy: 0.3334\n",
            "Epoch 15/30\n",
            "1250/1250 [==============================] - 15s 12ms/step - loss: 1.7589 - accuracy: 0.3384 - val_loss: 1.7840 - val_accuracy: 0.3344\n",
            "Epoch 16/30\n",
            "1250/1250 [==============================] - 14s 11ms/step - loss: 1.7570 - accuracy: 0.3374 - val_loss: 1.7839 - val_accuracy: 0.3309\n",
            "Epoch 17/30\n",
            "1250/1250 [==============================] - 14s 12ms/step - loss: 1.7547 - accuracy: 0.3376 - val_loss: 1.7868 - val_accuracy: 0.3291\n",
            "Epoch 18/30\n",
            "1250/1250 [==============================] - 14s 11ms/step - loss: 1.7554 - accuracy: 0.3359 - val_loss: 1.7803 - val_accuracy: 0.3277\n",
            "Epoch 19/30\n",
            "1250/1250 [==============================] - 14s 11ms/step - loss: 1.7534 - accuracy: 0.3364 - val_loss: 1.7786 - val_accuracy: 0.3337\n",
            "Epoch 20/30\n",
            "1250/1250 [==============================] - 14s 11ms/step - loss: 1.7529 - accuracy: 0.3370 - val_loss: 1.7811 - val_accuracy: 0.3339\n",
            "Epoch 21/30\n",
            "1250/1250 [==============================] - 14s 12ms/step - loss: 1.7530 - accuracy: 0.3363 - val_loss: 1.7770 - val_accuracy: 0.3325\n",
            "Epoch 22/30\n",
            "1250/1250 [==============================] - 15s 12ms/step - loss: 1.7514 - accuracy: 0.3385 - val_loss: 1.7812 - val_accuracy: 0.3282\n",
            "Epoch 23/30\n",
            "1250/1250 [==============================] - 14s 11ms/step - loss: 1.7502 - accuracy: 0.3387 - val_loss: 1.7749 - val_accuracy: 0.3325\n",
            "Epoch 24/30\n",
            "1250/1250 [==============================] - 14s 11ms/step - loss: 1.7490 - accuracy: 0.3387 - val_loss: 1.7770 - val_accuracy: 0.3310\n",
            "Epoch 25/30\n",
            "1250/1250 [==============================] - 14s 11ms/step - loss: 1.7507 - accuracy: 0.3390 - val_loss: 1.7790 - val_accuracy: 0.3366\n",
            "Epoch 26/30\n",
            "1250/1250 [==============================] - 14s 11ms/step - loss: 1.7490 - accuracy: 0.3403 - val_loss: 1.7730 - val_accuracy: 0.3364\n",
            "Epoch 27/30\n",
            "1250/1250 [==============================] - 14s 11ms/step - loss: 1.7469 - accuracy: 0.3397 - val_loss: 1.7731 - val_accuracy: 0.3310\n",
            "Epoch 28/30\n",
            "1250/1250 [==============================] - 14s 11ms/step - loss: 1.7462 - accuracy: 0.3410 - val_loss: 1.7724 - val_accuracy: 0.3322\n",
            "Epoch 29/30\n",
            "1250/1250 [==============================] - 14s 11ms/step - loss: 1.7447 - accuracy: 0.3404 - val_loss: 1.7728 - val_accuracy: 0.3328\n",
            "Epoch 30/30\n",
            "1250/1250 [==============================] - 14s 11ms/step - loss: 1.7445 - accuracy: 0.3403 - val_loss: 1.7709 - val_accuracy: 0.3358\n"
          ]
        },
        {
          "output_type": "execute_result",
          "data": {
            "text/plain": [
              "<keras.callbacks.History at 0x7fbdebf17690>"
            ]
          },
          "metadata": {},
          "execution_count": 23
        }
      ]
    },
    {
      "cell_type": "code",
      "source": [
        "model = tf.keras.models.Sequential()\n",
        "model.add(tf.keras.layers.Flatten(input_shape=[32, 32, 3]))\n",
        "model.add(tf.keras.layers.BatchNormalization())\n",
        "for _ in range(20):\n",
        "    model.add(tf.keras.layers.Dense(100, kernel_initializer=\"he_normal\"))\n",
        "    model.add(tf.keras.layers.BatchNormalization())\n",
        "    model.add(tf.keras.layers.Activation(\"elu\"))\n",
        "model.add(tf.keras.layers.Dense(10, activation=\"softmax\"))\n",
        "\n",
        "optimizer = tf.keras.optimizers.Nadam(learning_rate=5e-4)\n",
        "model.compile(loss=\"sparse_categorical_crossentropy\",\n",
        "              optimizer=optimizer,\n",
        "              metrics=[\"accuracy\"])"
      ],
      "metadata": {
        "id": "jPXRUh98adPb"
      },
      "execution_count": 24,
      "outputs": []
    },
    {
      "cell_type": "code",
      "source": [
        "model.summary()"
      ],
      "metadata": {
        "colab": {
          "base_uri": "https://localhost:8080/"
        },
        "id": "K4xGnFMte-C3",
        "outputId": "75ae75df-7862-4061-99cd-ee65d00e0e76"
      },
      "execution_count": 25,
      "outputs": [
        {
          "output_type": "stream",
          "name": "stdout",
          "text": [
            "Model: \"sequential_1\"\n",
            "_________________________________________________________________\n",
            " Layer (type)                Output Shape              Param #   \n",
            "=================================================================\n",
            " flatten_1 (Flatten)         (None, 3072)              0         \n",
            "                                                                 \n",
            " batch_normalization (BatchN  (None, 3072)             12288     \n",
            " ormalization)                                                   \n",
            "                                                                 \n",
            " dense_21 (Dense)            (None, 100)               307300    \n",
            "                                                                 \n",
            " batch_normalization_1 (Batc  (None, 100)              400       \n",
            " hNormalization)                                                 \n",
            "                                                                 \n",
            " activation (Activation)     (None, 100)               0         \n",
            "                                                                 \n",
            " dense_22 (Dense)            (None, 100)               10100     \n",
            "                                                                 \n",
            " batch_normalization_2 (Batc  (None, 100)              400       \n",
            " hNormalization)                                                 \n",
            "                                                                 \n",
            " activation_1 (Activation)   (None, 100)               0         \n",
            "                                                                 \n",
            " dense_23 (Dense)            (None, 100)               10100     \n",
            "                                                                 \n",
            " batch_normalization_3 (Batc  (None, 100)              400       \n",
            " hNormalization)                                                 \n",
            "                                                                 \n",
            " activation_2 (Activation)   (None, 100)               0         \n",
            "                                                                 \n",
            " dense_24 (Dense)            (None, 100)               10100     \n",
            "                                                                 \n",
            " batch_normalization_4 (Batc  (None, 100)              400       \n",
            " hNormalization)                                                 \n",
            "                                                                 \n",
            " activation_3 (Activation)   (None, 100)               0         \n",
            "                                                                 \n",
            " dense_25 (Dense)            (None, 100)               10100     \n",
            "                                                                 \n",
            " batch_normalization_5 (Batc  (None, 100)              400       \n",
            " hNormalization)                                                 \n",
            "                                                                 \n",
            " activation_4 (Activation)   (None, 100)               0         \n",
            "                                                                 \n",
            " dense_26 (Dense)            (None, 100)               10100     \n",
            "                                                                 \n",
            " batch_normalization_6 (Batc  (None, 100)              400       \n",
            " hNormalization)                                                 \n",
            "                                                                 \n",
            " activation_5 (Activation)   (None, 100)               0         \n",
            "                                                                 \n",
            " dense_27 (Dense)            (None, 100)               10100     \n",
            "                                                                 \n",
            " batch_normalization_7 (Batc  (None, 100)              400       \n",
            " hNormalization)                                                 \n",
            "                                                                 \n",
            " activation_6 (Activation)   (None, 100)               0         \n",
            "                                                                 \n",
            " dense_28 (Dense)            (None, 100)               10100     \n",
            "                                                                 \n",
            " batch_normalization_8 (Batc  (None, 100)              400       \n",
            " hNormalization)                                                 \n",
            "                                                                 \n",
            " activation_7 (Activation)   (None, 100)               0         \n",
            "                                                                 \n",
            " dense_29 (Dense)            (None, 100)               10100     \n",
            "                                                                 \n",
            " batch_normalization_9 (Batc  (None, 100)              400       \n",
            " hNormalization)                                                 \n",
            "                                                                 \n",
            " activation_8 (Activation)   (None, 100)               0         \n",
            "                                                                 \n",
            " dense_30 (Dense)            (None, 100)               10100     \n",
            "                                                                 \n",
            " batch_normalization_10 (Bat  (None, 100)              400       \n",
            " chNormalization)                                                \n",
            "                                                                 \n",
            " activation_9 (Activation)   (None, 100)               0         \n",
            "                                                                 \n",
            " dense_31 (Dense)            (None, 100)               10100     \n",
            "                                                                 \n",
            " batch_normalization_11 (Bat  (None, 100)              400       \n",
            " chNormalization)                                                \n",
            "                                                                 \n",
            " activation_10 (Activation)  (None, 100)               0         \n",
            "                                                                 \n",
            " dense_32 (Dense)            (None, 100)               10100     \n",
            "                                                                 \n",
            " batch_normalization_12 (Bat  (None, 100)              400       \n",
            " chNormalization)                                                \n",
            "                                                                 \n",
            " activation_11 (Activation)  (None, 100)               0         \n",
            "                                                                 \n",
            " dense_33 (Dense)            (None, 100)               10100     \n",
            "                                                                 \n",
            " batch_normalization_13 (Bat  (None, 100)              400       \n",
            " chNormalization)                                                \n",
            "                                                                 \n",
            " activation_12 (Activation)  (None, 100)               0         \n",
            "                                                                 \n",
            " dense_34 (Dense)            (None, 100)               10100     \n",
            "                                                                 \n",
            " batch_normalization_14 (Bat  (None, 100)              400       \n",
            " chNormalization)                                                \n",
            "                                                                 \n",
            " activation_13 (Activation)  (None, 100)               0         \n",
            "                                                                 \n",
            " dense_35 (Dense)            (None, 100)               10100     \n",
            "                                                                 \n",
            " batch_normalization_15 (Bat  (None, 100)              400       \n",
            " chNormalization)                                                \n",
            "                                                                 \n",
            " activation_14 (Activation)  (None, 100)               0         \n",
            "                                                                 \n",
            " dense_36 (Dense)            (None, 100)               10100     \n",
            "                                                                 \n",
            " batch_normalization_16 (Bat  (None, 100)              400       \n",
            " chNormalization)                                                \n",
            "                                                                 \n",
            " activation_15 (Activation)  (None, 100)               0         \n",
            "                                                                 \n",
            " dense_37 (Dense)            (None, 100)               10100     \n",
            "                                                                 \n",
            " batch_normalization_17 (Bat  (None, 100)              400       \n",
            " chNormalization)                                                \n",
            "                                                                 \n",
            " activation_16 (Activation)  (None, 100)               0         \n",
            "                                                                 \n",
            " dense_38 (Dense)            (None, 100)               10100     \n",
            "                                                                 \n",
            " batch_normalization_18 (Bat  (None, 100)              400       \n",
            " chNormalization)                                                \n",
            "                                                                 \n",
            " activation_17 (Activation)  (None, 100)               0         \n",
            "                                                                 \n",
            " dense_39 (Dense)            (None, 100)               10100     \n",
            "                                                                 \n",
            " batch_normalization_19 (Bat  (None, 100)              400       \n",
            " chNormalization)                                                \n",
            "                                                                 \n",
            " activation_18 (Activation)  (None, 100)               0         \n",
            "                                                                 \n",
            " dense_40 (Dense)            (None, 100)               10100     \n",
            "                                                                 \n",
            " batch_normalization_20 (Bat  (None, 100)              400       \n",
            " chNormalization)                                                \n",
            "                                                                 \n",
            " activation_19 (Activation)  (None, 100)               0         \n",
            "                                                                 \n",
            " dense_41 (Dense)            (None, 10)                1010      \n",
            "                                                                 \n",
            "=================================================================\n",
            "Total params: 520,498\n",
            "Trainable params: 510,354\n",
            "Non-trainable params: 10,144\n",
            "_________________________________________________________________\n"
          ]
        }
      ]
    },
    {
      "cell_type": "code",
      "source": [
        "model.fit(x_train, y_train, epochs=30, validation_data=(x_valid, y_valid))"
      ],
      "metadata": {
        "colab": {
          "base_uri": "https://localhost:8080/"
        },
        "id": "AFtLko3YfBLT",
        "outputId": "5997a33c-730c-4c8b-eeb9-420f3c7d01a0"
      },
      "execution_count": 26,
      "outputs": [
        {
          "output_type": "stream",
          "name": "stdout",
          "text": [
            "Epoch 1/30\n",
            "1250/1250 [==============================] - 31s 18ms/step - loss: 1.8453 - accuracy: 0.3377 - val_loss: 1.6121 - val_accuracy: 0.4191\n",
            "Epoch 2/30\n",
            "1250/1250 [==============================] - 22s 18ms/step - loss: 1.6717 - accuracy: 0.4052 - val_loss: 1.5856 - val_accuracy: 0.4336\n",
            "Epoch 3/30\n",
            "1250/1250 [==============================] - 23s 18ms/step - loss: 1.6062 - accuracy: 0.4280 - val_loss: 1.5253 - val_accuracy: 0.4567\n",
            "Epoch 4/30\n",
            "1250/1250 [==============================] - 23s 18ms/step - loss: 1.5554 - accuracy: 0.4489 - val_loss: 1.4721 - val_accuracy: 0.4794\n",
            "Epoch 5/30\n",
            "1250/1250 [==============================] - 23s 18ms/step - loss: 1.5128 - accuracy: 0.4627 - val_loss: 1.4691 - val_accuracy: 0.4775\n",
            "Epoch 6/30\n",
            "1250/1250 [==============================] - 23s 18ms/step - loss: 1.4816 - accuracy: 0.4733 - val_loss: 1.4293 - val_accuracy: 0.4877\n",
            "Epoch 7/30\n",
            "1250/1250 [==============================] - 22s 18ms/step - loss: 1.4462 - accuracy: 0.4861 - val_loss: 1.4359 - val_accuracy: 0.4882\n",
            "Epoch 8/30\n",
            "1250/1250 [==============================] - 23s 18ms/step - loss: 1.4130 - accuracy: 0.5009 - val_loss: 1.3933 - val_accuracy: 0.5085\n",
            "Epoch 9/30\n",
            "1250/1250 [==============================] - 23s 19ms/step - loss: 1.3853 - accuracy: 0.5080 - val_loss: 1.4084 - val_accuracy: 0.4958\n",
            "Epoch 10/30\n",
            "1250/1250 [==============================] - 23s 18ms/step - loss: 1.3646 - accuracy: 0.5156 - val_loss: 1.4044 - val_accuracy: 0.4981\n",
            "Epoch 11/30\n",
            "1250/1250 [==============================] - 22s 18ms/step - loss: 1.3396 - accuracy: 0.5246 - val_loss: 1.3794 - val_accuracy: 0.5125\n",
            "Epoch 12/30\n",
            "1250/1250 [==============================] - 22s 18ms/step - loss: 1.3190 - accuracy: 0.5329 - val_loss: 1.3554 - val_accuracy: 0.5158\n",
            "Epoch 13/30\n",
            "1250/1250 [==============================] - 22s 18ms/step - loss: 1.2901 - accuracy: 0.5448 - val_loss: 1.3848 - val_accuracy: 0.5129\n",
            "Epoch 14/30\n",
            "1250/1250 [==============================] - 22s 18ms/step - loss: 1.2773 - accuracy: 0.5483 - val_loss: 1.3560 - val_accuracy: 0.5261\n",
            "Epoch 15/30\n",
            "1250/1250 [==============================] - 23s 19ms/step - loss: 1.2624 - accuracy: 0.5530 - val_loss: 1.3402 - val_accuracy: 0.5288\n",
            "Epoch 16/30\n",
            "1250/1250 [==============================] - 23s 18ms/step - loss: 1.2441 - accuracy: 0.5609 - val_loss: 1.3476 - val_accuracy: 0.5295\n",
            "Epoch 17/30\n",
            "1250/1250 [==============================] - 23s 18ms/step - loss: 1.2266 - accuracy: 0.5664 - val_loss: 1.3549 - val_accuracy: 0.5240\n",
            "Epoch 18/30\n",
            "1250/1250 [==============================] - 22s 18ms/step - loss: 1.2105 - accuracy: 0.5742 - val_loss: 1.3478 - val_accuracy: 0.5289\n",
            "Epoch 19/30\n",
            "1250/1250 [==============================] - 23s 18ms/step - loss: 1.1990 - accuracy: 0.5777 - val_loss: 1.3578 - val_accuracy: 0.5269\n",
            "Epoch 20/30\n",
            "1250/1250 [==============================] - 23s 18ms/step - loss: 1.1886 - accuracy: 0.5793 - val_loss: 1.3344 - val_accuracy: 0.5334\n",
            "Epoch 21/30\n",
            "1250/1250 [==============================] - 23s 19ms/step - loss: 1.1733 - accuracy: 0.5851 - val_loss: 1.3524 - val_accuracy: 0.5300\n",
            "Epoch 22/30\n",
            "1250/1250 [==============================] - 23s 18ms/step - loss: 1.1582 - accuracy: 0.5888 - val_loss: 1.3509 - val_accuracy: 0.5342\n",
            "Epoch 23/30\n",
            "1250/1250 [==============================] - 22s 18ms/step - loss: 1.1432 - accuracy: 0.5964 - val_loss: 1.3582 - val_accuracy: 0.5358\n",
            "Epoch 24/30\n",
            "1250/1250 [==============================] - 22s 18ms/step - loss: 1.1320 - accuracy: 0.6024 - val_loss: 1.3304 - val_accuracy: 0.5389\n",
            "Epoch 25/30\n",
            "1250/1250 [==============================] - 23s 18ms/step - loss: 1.1130 - accuracy: 0.6096 - val_loss: 1.3671 - val_accuracy: 0.5244\n",
            "Epoch 26/30\n",
            "1250/1250 [==============================] - 23s 18ms/step - loss: 1.1077 - accuracy: 0.6108 - val_loss: 1.3715 - val_accuracy: 0.5335\n",
            "Epoch 27/30\n",
            "1250/1250 [==============================] - 23s 19ms/step - loss: 1.0928 - accuracy: 0.6133 - val_loss: 1.3965 - val_accuracy: 0.5262\n",
            "Epoch 28/30\n",
            "1250/1250 [==============================] - 22s 18ms/step - loss: 1.0855 - accuracy: 0.6193 - val_loss: 1.3562 - val_accuracy: 0.5375\n",
            "Epoch 29/30\n",
            "1250/1250 [==============================] - 22s 18ms/step - loss: 1.0683 - accuracy: 0.6242 - val_loss: 1.3675 - val_accuracy: 0.5331\n",
            "Epoch 30/30\n",
            "1250/1250 [==============================] - 23s 18ms/step - loss: 1.0594 - accuracy: 0.6298 - val_loss: 1.3679 - val_accuracy: 0.5296\n"
          ]
        },
        {
          "output_type": "execute_result",
          "data": {
            "text/plain": [
              "<keras.callbacks.History at 0x7fbde1bd1790>"
            ]
          },
          "metadata": {},
          "execution_count": 26
        }
      ]
    },
    {
      "cell_type": "code",
      "source": [
        ""
      ],
      "metadata": {
        "id": "gnbtaYq4g0ef"
      },
      "execution_count": null,
      "outputs": []
    }
  ]
}